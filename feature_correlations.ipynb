{
 "metadata": {
  "name": "feature_correlations"
 },
 "nbformat": 3,
 "nbformat_minor": 0,
 "worksheets": [
  {
   "cells": [
    {
     "cell_type": "code",
     "collapsed": false,
     "input": [
      "# Imports\n",
      "import numpy as np\n",
      "\n",
      "import datainterface.picklesaver as ps\n",
      "import settings as st"
     ],
     "language": "python",
     "metadata": {},
     "outputs": [],
     "prompt_number": 51
    },
    {
     "cell_type": "code",
     "collapsed": false,
     "input": [
      "# Load feature data\n",
      "features = {}\n",
      "\n",
      "for fsrc, feature in st.mt_analysis_features.iteritems():\n",
      "    for ftype, finfo in feature.iteritems():\n",
      "        fname = fsrc  + '_' + ftype\n",
      "        filename = finfo['file'].format('all')\n",
      "        features[fname] = ps.load(filename)"
     ],
     "language": "python",
     "metadata": {},
     "outputs": [],
     "prompt_number": 13
    },
    {
     "cell_type": "code",
     "collapsed": false,
     "input": [
      "# Get list of common words\n",
      "common_words = set(features.values()[0].iterkeys())\n",
      "for fsrc, f in features.iteritems():\n",
      "    common_words.intersection_update(f.iterkeys())\n",
      "    print '{} words for {}'.format(len(f.keys()), fsrc)\n",
      "\n",
      "print '----'\n",
      "common_words = list(common_words)\n",
      "print '{} common words'.format(len(common_words))"
     ],
     "language": "python",
     "metadata": {},
     "outputs": [
      {
       "output_type": "stream",
       "stream": "stdout",
       "text": [
        "30102 words for aoa_Kuperman\n",
        "110390 words for wn_PR_scores\n",
        "123455 words for cmu_MNsyllables\n",
        "123455 words for cmu_MNphonemes"
       ]
      },
      {
       "output_type": "stream",
       "stream": "stdout",
       "text": [
        "\n",
        "60711 words for wn_CCs\n",
        "5018 words for fa_PR_scores\n",
        "110390 words for wn_MNSyns\n",
        "13872 words for wn_BCs\n",
        "110390 words for wn_NSigns\n",
        "110390 words for wn_degrees"
       ]
      },
      {
       "output_type": "stream",
       "stream": "stdout",
       "text": [
        "\n",
        "----\n",
        "2617 common words\n"
       ]
      }
     ],
     "prompt_number": 24
    },
    {
     "cell_type": "code",
     "collapsed": false,
     "input": [
      "# Compute vectors\n",
      "N = len(common_words)\n",
      "word_features = np.zeros((len(features), len(common_words)))\n",
      "i = 0\n",
      "f_coords = {}\n",
      "for fsrc, f in features.iteritems():\n",
      "    f_coords[fsrc] = i\n",
      "    word_features[i] = np.array([f[w] for w in common_words])\n",
      "    i += 1\n",
      "\n",
      "# Center the vectors\n",
      "c_word_features = word_features - word_features.mean(1)[:,np.newaxis]\n",
      "\n",
      "# Correlation matrix\n",
      "s = (c_word_features**2).sum(1)\n",
      "C = c_word_features.dot(c_word_features.transpose()) / sqrt(s[:,newaxis].dot(s[newaxis,:]))"
     ],
     "language": "python",
     "metadata": {},
     "outputs": [],
     "prompt_number": 53
    },
    {
     "cell_type": "code",
     "collapsed": false,
     "input": [
      "# Pretty print the matrix\n",
      "inv_coords = {}\n",
      "for k, v in f_coords.iteritems():\n",
      "    inv_coords[v] = k\n",
      "\n",
      "m = max([len(fsrc) for fsrc in features.iterkeys()])\n",
      "fmt_c_string = '{{:^{}}}'.format(m)\n",
      "fmt_l_string = '{{:>{}}}'.format(m)\n",
      "fmt_f_string = '{{:^{}.2}}'.format(m)\n",
      "title = ' '*m + ' '.join([fmt_c_string.format(inv_coords[i]) for i in range(len(inv_coords))])\n",
      "\n",
      "print title\n",
      "for i in range(len(inv_coords)):\n",
      "    print\n",
      "    print fmt_l_string.format(inv_coords[i]) + ' '.join([fmt_f_string.format(C[i,j]) for j in range(len(inv_coords))])"
     ],
     "language": "python",
     "metadata": {},
     "outputs": [
      {
       "output_type": "stream",
       "stream": "stdout",
       "text": [
        "                aoa_Kuperman    wn_PR_scores   cmu_MNsyllables cmu_MNphonemes      wn_CCs       fa_PR_scores      wn_MNSyns        wn_BCs         wn_NSigns      wn_degrees   \n",
        "\n",
        "   aoa_Kuperman      1.0            -0.25           0.41            0.43            0.17            -0.38           0.069           -0.22           -0.31           -0.25     \n",
        "\n",
        "   wn_PR_scores     -0.25            1.0            -0.29           -0.26           -0.33           0.19             0.3            0.83            0.77            0.99      \n",
        "\n",
        "cmu_MNsyllables     0.41            -0.29            1.0            0.85            0.19            -0.19           0.026           -0.23           -0.31           -0.29     \n",
        "\n",
        " cmu_MNphonemes     0.43            -0.26           0.85             1.0            0.14            -0.21          0.0026           -0.2            -0.27           -0.26     \n",
        "\n",
        "         wn_CCs     0.17            -0.33           0.19            0.14             1.0            -0.14           0.39            -0.37           -0.53           -0.32     \n",
        "\n",
        "   fa_PR_scores     -0.38           0.19            -0.19           -0.21           -0.14            1.0           -0.047           0.18            0.24            0.19      \n",
        "\n",
        "      wn_MNSyns     0.069            0.3            0.026          0.0026           0.39           -0.047            1.0            0.058           -0.22           0.32      \n",
        "\n",
        "         wn_BCs     -0.22           0.83            -0.23           -0.2            -0.37           0.18            0.058            1.0            0.79            0.83      \n",
        "\n",
        "      wn_NSigns     -0.31           0.77            -0.31           -0.27           -0.53           0.24            -0.22           0.79             1.0            0.77      \n",
        "\n",
        "     wn_degrees     -0.25           0.99            -0.29           -0.26           -0.32           0.19            0.32            0.83            0.77             1.0      \n"
       ]
      }
     ],
     "prompt_number": 67
    },
    {
     "cell_type": "code",
     "collapsed": false,
     "input": [],
     "language": "python",
     "metadata": {},
     "outputs": []
    }
   ],
   "metadata": {}
  }
 ]
}