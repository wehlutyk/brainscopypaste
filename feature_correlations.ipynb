{
 "metadata": {
  "name": "feature_correlations"
 },
 "nbformat": 3,
 "nbformat_minor": 0,
 "worksheets": [
  {
   "cells": [
    {
     "cell_type": "code",
     "collapsed": false,
     "input": [
      "# Imports\n",
      "import numpy as np\n",
      "\n",
      "import datainterface.picklesaver as ps\n",
      "import settings as st"
     ],
     "language": "python",
     "metadata": {},
     "outputs": [],
     "prompt_number": 1
    },
    {
     "cell_type": "code",
     "collapsed": false,
     "input": [
      "# Load feature data\n",
      "features = {}\n",
      "\n",
      "for fsrc, feature in st.mt_analysis_features.iteritems():\n",
      "    for ftype, finfo in feature.iteritems():\n",
      "        fname = fsrc  + '_' + ftype\n",
      "        filename = finfo['file'].format('all')\n",
      "        features[fname] = ps.load(filename)"
     ],
     "language": "python",
     "metadata": {},
     "outputs": [],
     "prompt_number": 2
    },
    {
     "cell_type": "code",
     "collapsed": false,
     "input": [
      "# Get list of common words\n",
      "common_words = set(features.values()[0].iterkeys())\n",
      "for fsrc, f in features.iteritems():\n",
      "    common_words.intersection_update(f.iterkeys())\n",
      "    print '{} words for {}'.format(len(f.keys()), fsrc)\n",
      "\n",
      "print '----'\n",
      "common_words = list(common_words)\n",
      "print '{} common words'.format(len(common_words))"
     ],
     "language": "python",
     "metadata": {},
     "outputs": [
      {
       "output_type": "stream",
       "stream": "stdout",
       "text": [
        "30102 words for aoa_Kuperman\n",
        "5739 words for fa_CCs\n",
        "110390 words for wn_PR_scores\n",
        "123455 words for cmu_MNsyllables\n",
        "123455 words for cmu_MNphonemes"
       ]
      },
      {
       "output_type": "stream",
       "stream": "stdout",
       "text": [
        "\n",
        "6382 words for fa_BCs\n",
        "60711 words for wn_CCs\n",
        "10617 words for fa_PR_scores\n",
        "110390 words for wn_MNSyns\n",
        "13872 words for wn_BCs\n",
        "110390 words for wn_NSigns\n",
        "110390 words for wn_degrees"
       ]
      },
      {
       "output_type": "stream",
       "stream": "stdout",
       "text": [
        "\n",
        "10617 words for fa_degrees\n",
        "----\n",
        "2733 common words\n"
       ]
      }
     ],
     "prompt_number": 3
    },
    {
     "cell_type": "code",
     "collapsed": false,
     "input": [
      "# Compute vectors\n",
      "N = len(common_words)\n",
      "word_features = np.zeros((len(features), len(common_words)))\n",
      "i = 0\n",
      "f_coords = {}\n",
      "for fsrc, f in sorted(features.iteritems()):\n",
      "    f_coords[fsrc] = i\n",
      "    word_features[i] = np.array([f[w] for w in common_words])\n",
      "    i += 1\n",
      "\n",
      "# Center the vectors\n",
      "c_word_features = word_features - word_features.mean(1)[:,np.newaxis]\n",
      "\n",
      "# Correlation matrix\n",
      "s = (c_word_features**2).sum(1)\n",
      "C = c_word_features.dot(c_word_features.transpose()) / sqrt(s[:,newaxis].dot(s[newaxis,:]))"
     ],
     "language": "python",
     "metadata": {},
     "outputs": [],
     "prompt_number": 4
    },
    {
     "cell_type": "code",
     "collapsed": false,
     "input": [
      "# Pretty print the matrix\n",
      "inv_coords = {}\n",
      "for k, v in f_coords.iteritems():\n",
      "    inv_coords[v] = k\n",
      "\n",
      "l = len(inv_coords)\n",
      "hl = int(np.floor(l/2))\n",
      "m = max([len(fsrc) for fsrc in features.iterkeys()])\n",
      "fmt_c_string = '{{:^{}}}'.format(m)\n",
      "fmt_l_string = '{{:>{}}}'.format(m)\n",
      "fmt_f_string = '{{:^{}.2}}'.format(m)\n",
      "title1 = ' '*m + ' '.join([fmt_c_string.format(inv_coords[i]) for i in range(hl)])\n",
      "title2 = ' '*m + ' '.join([fmt_c_string.format(inv_coords[i]) for i in range(hl, l)])\n",
      "\n",
      "print title1\n",
      "for i in range(l):\n",
      "    print\n",
      "    print fmt_l_string.format(inv_coords[i]) + ' '.join([fmt_f_string.format(C[i,j]) for j in range(hl)])\n",
      "\n",
      "print\n",
      "print\n",
      "print title2\n",
      "for i in range(l):\n",
      "    print\n",
      "    print fmt_l_string.format(inv_coords[i]) + ' '.join([fmt_f_string.format(C[i,j]) for j in range(hl, l)])"
     ],
     "language": "python",
     "metadata": {},
     "outputs": [
      {
       "output_type": "stream",
       "stream": "stdout",
       "text": [
        "                aoa_Kuperman   cmu_MNphonemes  cmu_MNsyllables     fa_BCs          fa_CCs       fa_PR_scores  \n",
        "\n",
        "   aoa_Kuperman      1.0            0.43            0.41            -0.28           0.27            -0.46     \n",
        "\n",
        " cmu_MNphonemes     0.43             1.0            0.86            -0.14           0.16            -0.25     \n",
        "\n",
        "cmu_MNsyllables     0.41            0.86             1.0            -0.12           0.16            -0.24     \n",
        "\n",
        "         fa_BCs     -0.28           -0.14           -0.12            1.0            -0.31            0.8      \n",
        "\n",
        "         fa_CCs     0.27            0.16            0.16            -0.31            1.0            -0.29     \n",
        "\n",
        "   fa_PR_scores     -0.46           -0.25           -0.24            0.8            -0.29            1.0      \n",
        "\n",
        "     fa_degrees     -0.44           -0.23           -0.21            0.9            -0.45           0.88      \n",
        "\n",
        "         wn_BCs     -0.22           -0.2            -0.23           0.16            -0.21           0.22      \n",
        "\n",
        "         wn_CCs     0.17            0.14            0.18            -0.14           0.25            -0.18     \n",
        "\n",
        "      wn_MNSyns     0.068          0.00061          0.024           -0.05           0.11           -0.067     \n",
        "\n",
        "      wn_NSigns     -0.31           -0.27           -0.31           0.22            -0.31           0.31      \n",
        "\n",
        "   wn_PR_scores     -0.26           -0.26           -0.29           0.16            -0.23           0.23      \n",
        "\n",
        "     wn_degrees     -0.26           -0.27           -0.3            0.16            -0.24           0.24      \n",
        "\n",
        "\n",
        "                 fa_degrees        wn_BCs          wn_CCs         wn_MNSyns       wn_NSigns     wn_PR_scores     wn_degrees   \n",
        "\n",
        "   aoa_Kuperman     -0.44           -0.22           0.17            0.068           -0.31           -0.26           -0.26     \n",
        "\n",
        " cmu_MNphonemes     -0.23           -0.2            0.14           0.00061          -0.27           -0.26           -0.27     \n",
        "\n",
        "cmu_MNsyllables     -0.21           -0.23           0.18            0.024           -0.31           -0.29           -0.3      \n",
        "\n",
        "         fa_BCs      0.9            0.16            -0.14           -0.05           0.22            0.16            0.16      \n",
        "\n",
        "         fa_CCs     -0.45           -0.21           0.25            0.11            -0.31           -0.23           -0.24     \n",
        "\n",
        "   fa_PR_scores     0.88            0.22            -0.18          -0.067           0.31            0.23            0.24      \n",
        "\n",
        "     fa_degrees      1.0            0.25            -0.22          -0.085           0.35            0.26            0.26      \n",
        "\n",
        "         wn_BCs     0.25             1.0            -0.37           0.06            0.79            0.83            0.83      \n",
        "\n",
        "         wn_CCs     -0.22           -0.37            1.0            0.39            -0.53           -0.33           -0.32     \n",
        "\n",
        "      wn_MNSyns    -0.085           0.06            0.39             1.0            -0.22            0.3            0.33      \n",
        "\n",
        "      wn_NSigns     0.35            0.79            -0.53           -0.22            1.0            0.76            0.75      \n",
        "\n",
        "   wn_PR_scores     0.26            0.83            -0.33            0.3            0.76             1.0            0.98      \n",
        "\n",
        "     wn_degrees     0.26            0.83            -0.32           0.33            0.75            0.98             1.0      \n"
       ]
      }
     ],
     "prompt_number": 5
    },
    {
     "cell_type": "code",
     "collapsed": false,
     "input": [
      "# Export that to csv if needed\n",
      "import csv\n",
      "with open('../data/common_features.csv', 'wb') as outf:\n",
      "    writer = csv.writer(outf)\n",
      "    writer.writerow(['Word'] + sorted(features.iterkeys()))\n",
      "    for w in sorted(common_words):\n",
      "        writer.writerow([w] + [f[w] for fsrc, f in sorted(features.iteritems())])"
     ],
     "language": "python",
     "metadata": {},
     "outputs": [],
     "prompt_number": 6
    },
    {
     "cell_type": "code",
     "collapsed": false,
     "input": [],
     "language": "python",
     "metadata": {},
     "outputs": []
    }
   ],
   "metadata": {}
  }
 ]
}