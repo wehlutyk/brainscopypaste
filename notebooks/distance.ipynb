{
 "cells": [
  {
   "cell_type": "markdown",
   "metadata": {},
   "source": [
    "# Distance travelled by substitutions"
   ]
  },
  {
   "cell_type": "markdown",
   "metadata": {},
   "source": [
    "## 1 Setup"
   ]
  },
  {
   "cell_type": "markdown",
   "metadata": {},
   "source": [
    "Flags and settings."
   ]
  },
  {
   "cell_type": "code",
   "execution_count": 1,
   "metadata": {
    "collapsed": true
   },
   "outputs": [],
   "source": [
    "SAVE_FIGURES = False"
   ]
  },
  {
   "cell_type": "markdown",
   "metadata": {},
   "source": [
    "Imports and database setup."
   ]
  },
  {
   "cell_type": "code",
   "execution_count": 2,
   "metadata": {
    "collapsed": false
   },
   "outputs": [],
   "source": [
    "from itertools import product\n",
    "\n",
    "import pandas as pd\n",
    "import seaborn as sb\n",
    "import numpy as np\n",
    "import networkx as nx\n",
    "from nltk.corpus import wordnet as wn\n",
    "from nltk.corpus import wordnet_ic as wn_ic\n",
    "%matplotlib inline\n",
    "import matplotlib.pyplot as plt\n",
    "from progressbar import ProgressBar\n",
    "\n",
    "%cd -q ..\n",
    "from brainscopypaste.conf import settings\n",
    "%cd -q notebooks\n",
    "from brainscopypaste.mine import Model, Time, Source, Past, Durl\n",
    "from brainscopypaste.db import Substitution\n",
    "from brainscopypaste.utils import init_db, session_scope, memoized\n",
    "from brainscopypaste.load import FAFeatureLoader\n",
    "engine = init_db()"
   ]
  },
  {
   "cell_type": "markdown",
   "metadata": {},
   "source": [
    "Build our data."
   ]
  },
  {
   "cell_type": "code",
   "execution_count": 3,
   "metadata": {
    "collapsed": false
   },
   "outputs": [
    {
     "name": "stdout",
     "output_type": "stream",
     "text": [
      "Got 6318 substitutions for model Model(time=Time.discrete, source=Source.majority, past=Past.last_bin, durl=Durl.all, max_distance=1)\n"
     ]
    },
    {
     "name": "stderr",
     "output_type": "stream",
     "text": [
      "100% (6318 of 6318) |######################| Elapsed Time: 0:00:38 Time: 0:00:38\n"
     ]
    }
   ],
   "source": [
    "model = Model(Time.discrete, Source.majority, Past.last_bin, Durl.all, 1)\n",
    "data = []\n",
    "\n",
    "with session_scope() as session:\n",
    "    substitutions = session.query(Substitution.id).filter(Substitution.model == model)\n",
    "    print(\"Got {} substitutions for model {}\".format(substitutions.count(), model))\n",
    "    substitution_ids = [id for (id,) in substitutions]\n",
    "\n",
    "for substitution_id in ProgressBar(term_width=80)(substitution_ids):\n",
    "    with session_scope() as session:\n",
    "        substitution = session.query(Substitution).get(substitution_id)\n",
    "        source_token, destination_token = substitution.tokens\n",
    "        source_lemma, destination_lemma = substitution.lemmas\n",
    "        source_pos, destination_pos = substitution.tags\n",
    "        data.append({'cluster_id': substitution.source.cluster.sid,\n",
    "                     'destination_id': substitution.destination.sid,\n",
    "                     'occurrence': substitution.occurrence,\n",
    "                     'source_id': substitution.source.sid,\n",
    "                     'source_token': source_token,\n",
    "                     'destination_token': destination_token,\n",
    "                     'source_pos': source_pos,\n",
    "                     'destination_pos': destination_pos,\n",
    "                     'source_lemma': source_lemma,\n",
    "                     'destination_lemma': destination_lemma})\n",
    "\n",
    "original_subs = pd.DataFrame(data)\n",
    "del data"
   ]
  },
  {
   "cell_type": "markdown",
   "metadata": {},
   "source": [
    "Assign proper weight to each substitution."
   ]
  },
  {
   "cell_type": "code",
   "execution_count": 4,
   "metadata": {
    "collapsed": false
   },
   "outputs": [],
   "source": [
    "distances = original_subs.copy()\n",
    "divide_weight_sum = lambda x: x / distances.loc[x.index].weight.sum()\n",
    "\n",
    "# Weight is 1, at first.\n",
    "distances['weight'] = 1\n",
    "# Divided by the number of substitutions that share a durl.\n",
    "distances['weight'] = distances\\\n",
    "    .groupby(['destination_id', 'occurrence'])['weight']\\\n",
    "    .transform(divide_weight_sum)\n",
    "# Divided by the number of substitutions that share a cluster. (Using divide_weight_sum,\n",
    "# where we divide by the sum of weights, ensures we count only one for each group\n",
    "# of substitutions sharing a same durl.)\n",
    "distances['weight'] = distances\\\n",
    "    .groupby('cluster_id')['weight']\\\n",
    "    .transform(divide_weight_sum)"
   ]
  },
  {
   "cell_type": "markdown",
   "metadata": {},
   "source": [
    "## 2 Distances on the FA network"
   ]
  },
  {
   "cell_type": "markdown",
   "metadata": {},
   "source": [
    "Get the FA norms undirected graph and invert its weights to use them as costs."
   ]
  },
  {
   "cell_type": "code",
   "execution_count": 5,
   "metadata": {
    "collapsed": true
   },
   "outputs": [],
   "source": [
    "fa_loader = FAFeatureLoader()\n",
    "avg_weight = np.mean([weight for _, _, weight in fa_loader._undirected_norms_graph.edges_iter(data='weight')])\n",
    "fa_graph = nx.Graph()\n",
    "fa_graph.add_weighted_edges_from(\n",
    "    [(w1, w2, avg_weight / weight) for w1, w2, weight\n",
    "     in fa_loader._undirected_norms_graph.edges_iter(data='weight')]\n",
    ")"
   ]
  },
  {
   "cell_type": "markdown",
   "metadata": {},
   "source": [
    "Compute distances on the FA network, using lemmas if tokens are not found."
   ]
  },
  {
   "cell_type": "code",
   "execution_count": 6,
   "metadata": {
    "collapsed": false
   },
   "outputs": [
    {
     "name": "stderr",
     "output_type": "stream",
     "text": [
      "100% (6318 of 6318) |######################| Elapsed Time: 0:02:00 Time: 0:02:00\n"
     ]
    }
   ],
   "source": [
    "fa_distances = distances.copy()\n",
    "fa_distances['weighted_distance'] = np.nan\n",
    "fa_distances['distance'] = np.nan\n",
    "\n",
    "@memoized\n",
    "def fa_shortest_path(source, destination, weighted):\n",
    "    return nx.shortest_path_length(fa_graph, source, destination, 'weight' if weighted else None)\n",
    "\n",
    "for i in ProgressBar(term_width=80)(fa_distances.index):\n",
    "    # Use source token, or lemma if not found, or skip this substitution if not found\n",
    "    if fa_graph.has_node(fa_distances.loc[i].source_token):\n",
    "        source_word = fa_distances.loc[i].source_token\n",
    "    elif fa_graph.has_node(fa_distances.loc[i].source_lemma):\n",
    "        source_word = fa_distances.loc[i].source_lemma\n",
    "    else:\n",
    "        continue\n",
    "\n",
    "    # Use destination token, or lemma if not found, or skip this substitution if not found\n",
    "    if fa_graph.has_node(fa_distances.loc[i].destination_token):\n",
    "        destination_word = fa_distances.loc[i].destination_token\n",
    "    elif fa_graph.has_node(fa_distances.loc[i].destination_lemma):\n",
    "        destination_word = fa_distances.loc[i].destination_lemma\n",
    "    else:\n",
    "        continue\n",
    "    \n",
    "    fa_distances.loc[i, 'weighted_distance'] = fa_shortest_path(source_word, destination_word, weighted=True)\n",
    "    fa_distances.loc[i, 'distance'] = fa_shortest_path(source_word, destination_word, weighted=False)"
   ]
  },
  {
   "cell_type": "markdown",
   "metadata": {},
   "source": [
    "Plot them."
   ]
  },
  {
   "cell_type": "code",
   "execution_count": 7,
   "metadata": {
    "collapsed": false
   },
   "outputs": [],
   "source": [
    "def plot_distances(data, name, bin_count):\n",
    "    distances = data[name]\n",
    "    if bin_count <= 0:\n",
    "        bin_count = int(distances.max() - distances.min() + 1)\n",
    "        bins = np.arange(distances.min(), distances.max() + 2) - .5\n",
    "        d_bins = pd.cut(distances, bins, right=False, labels=False)\n",
    "    else:\n",
    "        d_bins, bins = pd.cut(distances, bin_count, right=False, labels=False, retbins=True)\n",
    "\n",
    "    middles = (bins[:-1] + bins[1:]) / 2\n",
    "    width = middles[1] - middles[0]\n",
    "\n",
    "    # Compute bin values.\n",
    "    heights = np.zeros(bin_count)\n",
    "    for i in range(bin_count):\n",
    "        heights[i] = data[d_bins == i].weight.sum()\n",
    "\n",
    "    # Plot.\n",
    "    plt.bar(middles - width / 2, heights, width=width)"
   ]
  },
  {
   "cell_type": "code",
   "execution_count": 8,
   "metadata": {
    "collapsed": false
   },
   "outputs": [
    {
     "data": {
      "image/png": "[encoded data removed]",
      "text/plain": [
       "<matplotlib.figure.Figure at 0x7f6eab7ac908>"
      ]
     },
     "metadata": {},
     "output_type": "display_data"
    }
   ],
   "source": [
    "plot_distances(fa_distances, 'distance', -1)"
   ]
  },
  {
   "cell_type": "code",
   "execution_count": 9,
   "metadata": {
    "collapsed": false
   },
   "outputs": [
    {
     "data": {
      "image/png": "[encoded data removed]",
      "text/plain": [
       "<matplotlib.figure.Figure at 0x7f6ea9cd47b8>"
      ]
     },
     "metadata": {},
     "output_type": "display_data"
    }
   ],
   "source": [
    "plot_distances(fa_distances, 'weighted_distance', 20)"
   ]
  },
  {
   "cell_type": "code",
   "execution_count": 26,
   "metadata": {
    "collapsed": false
   },
   "outputs": [
    {
     "name": "stdout",
     "output_type": "stream",
     "text": [
      "1775 substitutions are not taken into account in the graphs above (because they involve words unknown to FA).\n"
     ]
    }
   ],
   "source": [
    "print('{} substitutions are not taken into account in the graphs above'\n",
    "      ' (because they involve words unknown to FA).'\n",
    "      .format(len(fa_distances[np.isnan(fa_distances.distance)])))"
   ]
  },
  {
   "cell_type": "markdown",
   "metadata": {},
   "source": [
    "## 3 Distances with WordNet similarities"
   ]
  },
  {
   "cell_type": "code",
   "execution_count": 10,
   "metadata": {
    "collapsed": true
   },
   "outputs": [],
   "source": [
    "infocontent = wn_ic.ic('ic-brown.dat')\n",
    "wordnet_poses = {'a', 'n', 'r', 's', 'v'}\n",
    "\n",
    "def build_wordnet_distances(data, name, ic_based, pos_based=False, distance_kws={}):\n",
    "    pos_based = ic_based or pos_based\n",
    "    wn_distances = data.copy()\n",
    "    wn_distances['distance'] = np.nan\n",
    "\n",
    "    skipped_no_synsets = 0\n",
    "    skipped_unknown_pos = 0\n",
    "    skipped_incongruent_pos = 0\n",
    "    skipped_noic_pos = 0\n",
    "    for i in ProgressBar(term_width=80)(data.index):\n",
    "        if pos_based:\n",
    "            pos = data.loc[i].source_pos[0].lower()\n",
    "            if pos not in wordnet_poses:\n",
    "                skipped_unknown_pos += 1\n",
    "                continue\n",
    "            if data.loc[i].destination_pos[0].lower() != pos:\n",
    "                skipped_incongruent_pos += 1\n",
    "                continue\n",
    "            if ic_based and (pos not in infocontent.keys()):\n",
    "                skipped_noic_pos += 1\n",
    "                continue\n",
    "        else:\n",
    "            pos = None\n",
    "        \n",
    "        # Use source token, or lemma if not found\n",
    "        source_synsets = wn.synsets(wn_distances.loc[i].source_token, pos=pos)\n",
    "        if len(source_synsets) == 0:\n",
    "            source_synsets = wn.synsets(wn_distances.loc[i].source_lemma, pos=pos)\n",
    "\n",
    "        # Use destination token, or lemma if not found\n",
    "        destination_synsets = wn.synsets(wn_distances.loc[i].destination_token, pos=pos)\n",
    "        if len(destination_synsets) == 0:\n",
    "            destination_synsets = wn.synsets(wn_distances.loc[i].destination_lemma, pos=pos)\n",
    "        \n",
    "        # Skip this substitution if no corresponding synsets were found\n",
    "        if len(source_synsets) == 0 or len(destination_synsets) == 0:\n",
    "            skipped_no_synsets += 1\n",
    "            continue\n",
    "        \n",
    "        def get_distance(s1, s2):\n",
    "            distance_func = getattr(s1, name)\n",
    "            if ic_based:\n",
    "                return distance_func(s2, infocontent, **distance_kws)\n",
    "            else:\n",
    "                return distance_func(s2, **distance_kws)\n",
    "        \n",
    "        distances = [get_distance(s1, s2)\n",
    "                     for s1, s2 in product(source_synsets, destination_synsets)\n",
    "                     if get_distance(s1, s2) is not None]\n",
    "        wn_distances.loc[i, 'distance'] = np.mean(distances)\n",
    "    \n",
    "    if pos_based:\n",
    "        print('Skipped {} substitutions because their source was unknown to WordNet'\n",
    "              .format(skipped_unknown_pos))\n",
    "        print('Skipped {} substitutions because their source and destination pos were different'\n",
    "              .format(skipped_incongruent_pos))\n",
    "        if ic_based:\n",
    "            print('Skipped {} substitutions because their source pos was not in {}'\n",
    "                  .format(skipped_noic_pos, infocontent.keys()))\n",
    "    print('Skipped {} substitutions because no synsets were found'.format(skipped_no_synsets))\n",
    "\n",
    "    return wn_distances"
   ]
  },
  {
   "cell_type": "markdown",
   "metadata": {},
   "source": [
    "WordNet defines all sorts of distances/similarities between synsets. We're trying all of them to see what it looks like."
   ]
  },
  {
   "cell_type": "markdown",
   "metadata": {},
   "source": [
    "### 3.1 Jiang-Conrath similarity"
   ]
  },
  {
   "cell_type": "code",
   "execution_count": 11,
   "metadata": {
    "collapsed": false,
    "scrolled": true
   },
   "outputs": [
    {
     "name": "stderr",
     "output_type": "stream",
     "text": [
      " 98% (6240 of 6318) |##################### | Elapsed Time: 0:00:11 ETA:  0:00:00"
     ]
    },
    {
     "name": "stdout",
     "output_type": "stream",
     "text": [
      "Skipped 995 substitutions because their source was unknown to WordNet\n",
      "Skipped 1053 substitutions because their source and destination pos were different\n",
      "Skipped 117 substitutions because their source pos was not in dict_keys(['v', 'n'])\n",
      "Skipped 0 substitutions because no synsets were found\n"
     ]
    },
    {
     "name": "stderr",
     "output_type": "stream",
     "text": [
      "\r",
      "100% (6318 of 6318) |######################| Elapsed Time: 0:00:12 Time: 0:00:12\n"
     ]
    }
   ],
   "source": [
    "jcn_similarities = build_wordnet_distances(distances, 'jcn_similarity', True)"
   ]
  },
  {
   "cell_type": "code",
   "execution_count": 12,
   "metadata": {
    "collapsed": false
   },
   "outputs": [
    {
     "data": {
      "image/png": "[encoded data removed]",
      "text/plain": [
       "<matplotlib.figure.Figure at 0x7f6e9fb8afd0>"
      ]
     },
     "metadata": {},
     "output_type": "display_data"
    }
   ],
   "source": [
    "plot_distances(jcn_similarities.loc[jcn_similarities.distance <= 1], 'distance', 30)"
   ]
  },
  {
   "cell_type": "markdown",
   "metadata": {},
   "source": [
    "### 3.2 Lin similarity"
   ]
  },
  {
   "cell_type": "code",
   "execution_count": 13,
   "metadata": {
    "collapsed": false
   },
   "outputs": [
    {
     "name": "stderr",
     "output_type": "stream",
     "text": [
      " 97% (6161 of 6318) |##################### | Elapsed Time: 0:00:08 ETA:  0:00:00"
     ]
    },
    {
     "name": "stdout",
     "output_type": "stream",
     "text": [
      "Skipped 995 substitutions because their source was unknown to WordNet\n",
      "Skipped 1053 substitutions because their source and destination pos were different\n",
      "Skipped 117 substitutions because their source pos was not in dict_keys(['v', 'n'])\n",
      "Skipped 0 substitutions because no synsets were found\n"
     ]
    },
    {
     "name": "stderr",
     "output_type": "stream",
     "text": [
      "\r",
      " 98% (6240 of 6318) |##################### | Elapsed Time: 0:00:08 ETA:  0:00:00\r",
      "100% (6318 of 6318) |######################| Elapsed Time: 0:00:08 Time: 0:00:08\n"
     ]
    }
   ],
   "source": [
    "lin_similarities = build_wordnet_distances(distances, 'lin_similarity', True)"
   ]
  },
  {
   "cell_type": "code",
   "execution_count": 14,
   "metadata": {
    "collapsed": false
   },
   "outputs": [
    {
     "data": {
      "image/png": "[encoded data removed]",
      "text/plain": [
       "<matplotlib.figure.Figure at 0x7f6e9f906d30>"
      ]
     },
     "metadata": {},
     "output_type": "display_data"
    }
   ],
   "source": [
    "plot_distances(lin_similarities, 'distance', 30)"
   ]
  },
  {
   "cell_type": "markdown",
   "metadata": {},
   "source": [
    "### 3.3 Resnik similarity"
   ]
  },
  {
   "cell_type": "code",
   "execution_count": 15,
   "metadata": {
    "collapsed": false
   },
   "outputs": [
    {
     "name": "stderr",
     "output_type": "stream",
     "text": [
      " 98% (6240 of 6318) |##################### | Elapsed Time: 0:00:08 ETA:  0:00:00"
     ]
    },
    {
     "name": "stdout",
     "output_type": "stream",
     "text": [
      "Skipped 995 substitutions because their source was unknown to WordNet\n",
      "Skipped 1053 substitutions because their source and destination pos were different\n",
      "Skipped 117 substitutions because their source pos was not in dict_keys(['v', 'n'])\n",
      "Skipped 0 substitutions because no synsets were found\n"
     ]
    },
    {
     "name": "stderr",
     "output_type": "stream",
     "text": [
      "\r",
      "100% (6318 of 6318) |######################| Elapsed Time: 0:00:08 Time: 0:00:08\n"
     ]
    }
   ],
   "source": [
    "res_similarities = build_wordnet_distances(distances, 'res_similarity', True)"
   ]
  },
  {
   "cell_type": "code",
   "execution_count": 16,
   "metadata": {
    "collapsed": false
   },
   "outputs": [
    {
     "data": {
      "image/png": "[encoded data removed]",
      "text/plain": [
       "<matplotlib.figure.Figure at 0x7f6e9f61bf28>"
      ]
     },
     "metadata": {},
     "output_type": "display_data"
    }
   ],
   "source": [
    "plot_distances(res_similarities.loc[res_similarities.distance <= 100], 'distance', 30)"
   ]
  },
  {
   "cell_type": "markdown",
   "metadata": {},
   "source": [
    "### 3.4 Leacock Chodorow similarity"
   ]
  },
  {
   "cell_type": "code",
   "execution_count": 17,
   "metadata": {
    "collapsed": false
   },
   "outputs": [
    {
     "name": "stderr",
     "output_type": "stream",
     "text": [
      "  1% (  79 of 6318) |                      | Elapsed Time: 0:00:11 ETA:  0:02:10/home/sl/.virtualenvs/brainscopypaste/lib/python3.5/site-packages/numpy/core/_methods.py:59: RuntimeWarning: Mean of empty slice.\n",
      "  warnings.warn(\"Mean of empty slice.\", RuntimeWarning)\n",
      " 98% (6240 of 6318) |##################### | Elapsed Time: 0:00:52 ETA:  0:00:00"
     ]
    },
    {
     "name": "stdout",
     "output_type": "stream",
     "text": [
      "Skipped 995 substitutions because their source was unknown to WordNet\n",
      "Skipped 1053 substitutions because their source and destination pos were different\n",
      "Skipped 0 substitutions because no synsets were found\n"
     ]
    },
    {
     "name": "stderr",
     "output_type": "stream",
     "text": [
      "\r",
      "100% (6318 of 6318) |######################| Elapsed Time: 0:00:52 Time: 0:00:52\n"
     ]
    }
   ],
   "source": [
    "lch_similarities = build_wordnet_distances(distances, 'lch_similarity', False, pos_based=True)"
   ]
  },
  {
   "cell_type": "code",
   "execution_count": 18,
   "metadata": {
    "collapsed": false
   },
   "outputs": [
    {
     "data": {
      "image/png": "[encoded data removed]",
      "text/plain": [
       "<matplotlib.figure.Figure at 0x7f6e9f613f60>"
      ]
     },
     "metadata": {},
     "output_type": "display_data"
    }
   ],
   "source": [
    "plot_distances(lch_similarities, 'distance', 30)"
   ]
  },
  {
   "cell_type": "markdown",
   "metadata": {},
   "source": [
    "### 3.5 Path Distance similarity (with hypernym/hyponym relationships)"
   ]
  },
  {
   "cell_type": "code",
   "execution_count": 19,
   "metadata": {
    "collapsed": false
   },
   "outputs": [
    {
     "name": "stderr",
     "output_type": "stream",
     "text": [
      "/home/sl/.virtualenvs/brainscopypaste/lib/python3.5/site-packages/numpy/core/_methods.py:59: RuntimeWarning: Mean of empty slice.\n",
      "  warnings.warn(\"Mean of empty slice.\", RuntimeWarning)\n",
      " 98% (6240 of 6318) |##################### | Elapsed Time: 0:01:07 ETA:  0:00:24"
     ]
    },
    {
     "name": "stdout",
     "output_type": "stream",
     "text": [
      "Skipped 0 substitutions because no synsets were found\n"
     ]
    },
    {
     "name": "stderr",
     "output_type": "stream",
     "text": [
      "\r",
      "100% (6318 of 6318) |######################| Elapsed Time: 0:01:08 Time: 0:01:08\n"
     ]
    }
   ],
   "source": [
    "path_similarities = build_wordnet_distances(distances, 'path_similarity', False)"
   ]
  },
  {
   "cell_type": "code",
   "execution_count": 20,
   "metadata": {
    "collapsed": false
   },
   "outputs": [
    {
     "data": {
      "image/png": "[encoded data removed]",
      "text/plain": [
       "<matplotlib.figure.Figure at 0x7f6e9083dba8>"
      ]
     },
     "metadata": {},
     "output_type": "display_data"
    }
   ],
   "source": [
    "plot_distances(path_similarities, 'distance', 20)"
   ]
  },
  {
   "cell_type": "markdown",
   "metadata": {},
   "source": [
    "### 3.6 Shortest Path distance (less is more similar, more is less similar)"
   ]
  },
  {
   "cell_type": "code",
   "execution_count": 21,
   "metadata": {
    "collapsed": false
   },
   "outputs": [
    {
     "name": "stderr",
     "output_type": "stream",
     "text": [
      " 98% (6240 of 6318) |##################### | Elapsed Time: 0:00:28 ETA:  0:00:00"
     ]
    },
    {
     "name": "stdout",
     "output_type": "stream",
     "text": [
      "Skipped 995 substitutions because their source was unknown to WordNet\n",
      "Skipped 1053 substitutions because their source and destination pos were different\n",
      "Skipped 0 substitutions because no synsets were found\n"
     ]
    },
    {
     "name": "stderr",
     "output_type": "stream",
     "text": [
      "\r",
      "100% (6318 of 6318) |######################| Elapsed Time: 0:00:28 Time: 0:00:28\n"
     ]
    }
   ],
   "source": [
    "shortest_path_distances = build_wordnet_distances(distances, 'shortest_path_distance', False, pos_based=True,\n",
    "                                                  distance_kws={'simulate_root': True})"
   ]
  },
  {
   "cell_type": "code",
   "execution_count": 22,
   "metadata": {
    "collapsed": false
   },
   "outputs": [
    {
     "data": {
      "image/png": "[encoded data removed]",
      "text/plain": [
       "<matplotlib.figure.Figure at 0x7f6e9f625f60>"
      ]
     },
     "metadata": {},
     "output_type": "display_data"
    }
   ],
   "source": [
    "plot_distances(shortest_path_distances, 'distance', 20)"
   ]
  },
  {
   "cell_type": "markdown",
   "metadata": {},
   "source": [
    "### 3.7 Wu-Palmer similarity"
   ]
  },
  {
   "cell_type": "code",
   "execution_count": 23,
   "metadata": {
    "collapsed": false
   },
   "outputs": [
    {
     "name": "stderr",
     "output_type": "stream",
     "text": [
      "/home/sl/.virtualenvs/brainscopypaste/lib/python3.5/site-packages/numpy/core/_methods.py:59: RuntimeWarning: Mean of empty slice.\n",
      "  warnings.warn(\"Mean of empty slice.\", RuntimeWarning)\n",
      " 98% (6240 of 6318) |##################### | Elapsed Time: 0:01:07 ETA:  0:00:00"
     ]
    },
    {
     "name": "stdout",
     "output_type": "stream",
     "text": [
      "Skipped 0 substitutions because no synsets were found\n"
     ]
    },
    {
     "name": "stderr",
     "output_type": "stream",
     "text": [
      "\r",
      "100% (6318 of 6318) |######################| Elapsed Time: 0:01:07 Time: 0:01:07\n"
     ]
    }
   ],
   "source": [
    "wup_similarities = build_wordnet_distances(distances, 'wup_similarity', False)"
   ]
  },
  {
   "cell_type": "code",
   "execution_count": 24,
   "metadata": {
    "collapsed": false
   },
   "outputs": [
    {
     "data": {
      "image/png": "[encoded data removed]",
      "text/plain": [
       "<matplotlib.figure.Figure at 0x7f6e902775f8>"
      ]
     },
     "metadata": {},
     "output_type": "display_data"
    }
   ],
   "source": [
    "plot_distances(wup_similarities, 'distance', 20)"
   ]
  },
  {
   "cell_type": "markdown",
   "metadata": {},
   "source": [
    "## 4 Comments\n",
    "\n",
    "While the FA distance scores are somewhat interpretable, they still don't say much.\n",
    "\n",
    "The WordNet distances and similarities make no sense to whatsoever. It might mean something when compared to some $\\mathcal{H}_0$ where destination word is chosen randomly, but just like this the similarity and distance scores are meaningless. Two more problems: most of them only accept words that have exact same POS (which filters out about 1000 substitutions out of ~6000), and because the meanings of a word are so many (\n",
    "\n",
    "One point is that most substitutions are in the low similarities rather than the high ones."
   ]
  }
 ],
 "metadata": {
  "kernelspec": {
   "display_name": "Python 3",
   "language": "python",
   "name": "python3"
  },
  "language_info": {
   "codemirror_mode": {
    "name": "ipython",
    "version": 3
   },
   "file_extension": ".py",
   "mimetype": "text/x-python",
   "name": "python",
   "nbconvert_exporter": "python",
   "pygments_lexer": "ipython3",
   "version": "3.5.2"
  }
 },
 "nbformat": 4,
 "nbformat_minor": 0
}
