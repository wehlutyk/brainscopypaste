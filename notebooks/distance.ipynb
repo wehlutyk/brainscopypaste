{
 "cells": [
  {
   "cell_type": "markdown",
   "metadata": {},
   "source": [
    "# Distance travelled by substitutions"
   ]
  },
  {
   "cell_type": "markdown",
   "metadata": {},
   "source": [
    "## 1 Setup"
   ]
  },
  {
   "cell_type": "markdown",
   "metadata": {},
   "source": [
    "Flags and settings."
   ]
  },
  {
   "cell_type": "code",
   "execution_count": 1,
   "metadata": {
    "ExecuteTime": {
     "end_time": "2016-07-26T22:54:04.859604",
     "start_time": "2016-07-26T22:54:04.853607"
    },
    "collapsed": true
   },
   "outputs": [],
   "source": [
    "SAVE_FIGURES = False"
   ]
  },
  {
   "cell_type": "markdown",
   "metadata": {},
   "source": [
    "Imports and database setup."
   ]
  },
  {
   "cell_type": "code",
   "execution_count": 2,
   "metadata": {
    "ExecuteTime": {
     "end_time": "2016-07-26T22:54:12.768144",
     "start_time": "2016-07-26T22:54:04.862698"
    },
    "collapsed": false
   },
   "outputs": [],
   "source": [
    "from itertools import product\n",
    "\n",
    "import pandas as pd\n",
    "import seaborn as sb\n",
    "import numpy as np\n",
    "import networkx as nx\n",
    "from nltk.corpus import wordnet as wn\n",
    "from nltk.corpus import wordnet_ic as wn_ic\n",
    "%matplotlib inline\n",
    "import matplotlib.pyplot as plt\n",
    "from progressbar import ProgressBar\n",
    "\n",
    "%cd -q ..\n",
    "from brainscopypaste.conf import settings\n",
    "%cd -q notebooks\n",
    "from brainscopypaste.mine import Model, Time, Source, Past, Durl\n",
    "from brainscopypaste.db import Substitution\n",
    "from brainscopypaste.utils import init_db, session_scope, memoized\n",
    "from brainscopypaste.load import FAFeatureLoader\n",
    "engine = init_db()"
   ]
  },
  {
   "cell_type": "markdown",
   "metadata": {},
   "source": [
    "Build our data."
   ]
  },
  {
   "cell_type": "code",
   "execution_count": 3,
   "metadata": {
    "ExecuteTime": {
     "end_time": "2016-07-26T22:54:55.944403",
     "start_time": "2016-07-26T22:54:12.769992"
    },
    "collapsed": false
   },
   "outputs": [
    {
     "name": "stdout",
     "output_type": "stream",
     "text": [
      "Got 6318 substitutions for model Model(time=Time.discrete, source=Source.majority, past=Past.last_bin, durl=Durl.all, max_distance=1)\n"
     ]
    },
    {
     "name": "stderr",
     "output_type": "stream",
     "text": [
      "100% (6318 of 6318) |######################| Elapsed Time: 0:00:41 Time: 0:00:41\n"
     ]
    }
   ],
   "source": [
    "model = Model(Time.discrete, Source.majority, Past.last_bin, Durl.all, 1)\n",
    "data = []\n",
    "\n",
    "with session_scope() as session:\n",
    "    substitutions = session.query(Substitution.id)\\\n",
    "        .filter(Substitution.model == model)\n",
    "    print(\"Got {} substitutions for model {}\"\n",
    "          .format(substitutions.count(), model))\n",
    "    substitution_ids = [id for (id,) in substitutions]\n",
    "\n",
    "for substitution_id in ProgressBar(term_width=80)(substitution_ids):\n",
    "    with session_scope() as session:\n",
    "        substitution = session.query(Substitution).get(substitution_id)\n",
    "        source_token, destination_token = substitution.tokens\n",
    "        source_lemma, destination_lemma = substitution.lemmas\n",
    "        source_pos, destination_pos = substitution.tags\n",
    "        data.append({'cluster_id': substitution.source.cluster.sid,\n",
    "                     'destination_id': substitution.destination.sid,\n",
    "                     'occurrence': substitution.occurrence,\n",
    "                     'source_id': substitution.source.sid,\n",
    "                     'source_token': source_token,\n",
    "                     'destination_token': destination_token,\n",
    "                     'source_pos': source_pos,\n",
    "                     'destination_pos': destination_pos,\n",
    "                     'source_lemma': source_lemma,\n",
    "                     'destination_lemma': destination_lemma})\n",
    "\n",
    "original_subs = pd.DataFrame(data)\n",
    "del data"
   ]
  },
  {
   "cell_type": "markdown",
   "metadata": {},
   "source": [
    "Assign proper weight to each substitution."
   ]
  },
  {
   "cell_type": "code",
   "execution_count": 4,
   "metadata": {
    "ExecuteTime": {
     "end_time": "2016-07-26T22:55:01.423950",
     "start_time": "2016-07-26T22:54:55.946585"
    },
    "collapsed": false
   },
   "outputs": [],
   "source": [
    "distances = original_subs.copy()\n",
    "divide_weight_sum = lambda x: x / distances.loc[x.index].weight.sum()\n",
    "\n",
    "# Weight is 1, at first.\n",
    "distances['weight'] = 1\n",
    "# Divided by the number of substitutions that share a durl.\n",
    "distances['weight'] = distances\\\n",
    "    .groupby(['destination_id', 'occurrence'])['weight']\\\n",
    "    .transform(divide_weight_sum)\n",
    "# Divided by the number of substitutions that share a cluster.\n",
    "# (Using divide_weight_sum, where we divide by the sum of weights,\n",
    "# ensures we count only one for each group of substitutions sharing\n",
    "# a same durl.)\n",
    "distances['weight'] = distances\\\n",
    "    .groupby('cluster_id')['weight']\\\n",
    "    .transform(divide_weight_sum)"
   ]
  },
  {
   "cell_type": "markdown",
   "metadata": {},
   "source": [
    "## 2 Distances on the FA network"
   ]
  },
  {
   "cell_type": "markdown",
   "metadata": {},
   "source": [
    "Get the FA norms undirected graph and invert its weights to use them as costs."
   ]
  },
  {
   "cell_type": "code",
   "execution_count": 5,
   "metadata": {
    "ExecuteTime": {
     "end_time": "2016-07-26T22:55:03.568606",
     "start_time": "2016-07-26T22:55:01.426030"
    },
    "collapsed": true
   },
   "outputs": [],
   "source": [
    "fa_loader = FAFeatureLoader()\n",
    "avg_weight = np.mean([weight for _, _, weight \n",
    "                      in fa_loader._undirected_norms_graph\n",
    "                                  .edges_iter(data='weight')])\n",
    "fa_graph = nx.Graph()\n",
    "fa_graph.add_weighted_edges_from(\n",
    "    [(w1, w2, avg_weight / weight) for w1, w2, weight\n",
    "     in fa_loader._undirected_norms_graph.edges_iter(data='weight')]\n",
    ")"
   ]
  },
  {
   "cell_type": "markdown",
   "metadata": {},
   "source": [
    "Compute distances on the FA network, using lemmas if tokens are not found."
   ]
  },
  {
   "cell_type": "code",
   "execution_count": 6,
   "metadata": {
    "ExecuteTime": {
     "end_time": "2016-07-26T22:57:04.878660",
     "start_time": "2016-07-26T22:55:03.570321"
    },
    "collapsed": false
   },
   "outputs": [
    {
     "name": "stderr",
     "output_type": "stream",
     "text": [
      "100% (6318 of 6318) |######################| Elapsed Time: 0:02:01 Time: 0:02:01\n"
     ]
    }
   ],
   "source": [
    "fa_distances = distances.copy()\n",
    "fa_distances['weighted_distance'] = np.nan\n",
    "fa_distances['distance'] = np.nan\n",
    "\n",
    "@memoized\n",
    "def fa_shortest_path(source, destination, weighted):\n",
    "    return nx.shortest_path_length(fa_graph, source, destination, \n",
    "                                   'weight' if weighted else None)\n",
    "\n",
    "for i in ProgressBar(term_width=80)(fa_distances.index):\n",
    "    # Use source token, or lemma if not found,\n",
    "    # or skip this substitution if not found\n",
    "    if fa_graph.has_node(fa_distances.loc[i].source_token):\n",
    "        source_word = fa_distances.loc[i].source_token\n",
    "    elif fa_graph.has_node(fa_distances.loc[i].source_lemma):\n",
    "        source_word = fa_distances.loc[i].source_lemma\n",
    "    else:\n",
    "        continue\n",
    "\n",
    "    # Use destination token, or lemma if not found,\n",
    "    # or skip this substitution if not found\n",
    "    if fa_graph.has_node(fa_distances.loc[i].destination_token):\n",
    "        destination_word = fa_distances.loc[i].destination_token\n",
    "    elif fa_graph.has_node(fa_distances.loc[i].destination_lemma):\n",
    "        destination_word = fa_distances.loc[i].destination_lemma\n",
    "    else:\n",
    "        continue\n",
    "    \n",
    "    fa_distances.loc[i, 'weighted_distance'] = \\\n",
    "        fa_shortest_path(source_word, destination_word, weighted=True)\n",
    "    fa_distances.loc[i, 'distance'] = \\\n",
    "        fa_shortest_path(source_word, destination_word, weighted=False)"
   ]
  },
  {
   "cell_type": "markdown",
   "metadata": {},
   "source": [
    "Plot them."
   ]
  },
  {
   "cell_type": "code",
   "execution_count": 7,
   "metadata": {
    "ExecuteTime": {
     "end_time": "2016-07-26T22:57:04.893601",
     "start_time": "2016-07-26T22:57:04.880874"
    },
    "collapsed": false
   },
   "outputs": [],
   "source": [
    "def plot_metric(data, name, bin_count):\n",
    "    distances = data[name]\n",
    "    if bin_count <= 0:\n",
    "        bin_count = int(distances.max() - distances.min() + 1)\n",
    "        bins = np.arange(distances.min(), distances.max() + 2) - .5\n",
    "        d_bins = pd.cut(distances, bins, right=False, labels=False)\n",
    "    else:\n",
    "        d_bins, bins = pd.cut(distances, bin_count, right=False, \n",
    "                              labels=False, retbins=True)\n",
    "\n",
    "    middles = (bins[:-1] + bins[1:]) / 2\n",
    "    width = middles[1] - middles[0]\n",
    "\n",
    "    # Compute bin values.\n",
    "    heights = np.zeros(bin_count)\n",
    "    for i in range(bin_count):\n",
    "        heights[i] = data[d_bins == i].weight.sum()\n",
    "\n",
    "    # Plot.\n",
    "    plt.bar(middles - width / 2, heights, width=width)"
   ]
  },
  {
   "cell_type": "markdown",
   "metadata": {},
   "source": [
    "### 2.1 Unweighted distances"
   ]
  },
  {
   "cell_type": "code",
   "execution_count": 8,
   "metadata": {
    "ExecuteTime": {
     "end_time": "2016-07-26T22:57:05.346200",
     "start_time": "2016-07-26T22:57:04.895083"
    },
    "collapsed": false
   },
   "outputs": [
    {
     "data": {
      "image/png": "[encoded data removed]",
      "text/plain": [
       "<matplotlib.figure.Figure at 0x7f54e8eef4a8>"
      ]
     },
     "metadata": {},
     "output_type": "display_data"
    }
   ],
   "source": [
    "plot_metric(fa_distances, 'distance', -1)"
   ]
  },
  {
   "cell_type": "markdown",
   "metadata": {},
   "source": [
    "### 2.2 Weighted distances"
   ]
  },
  {
   "cell_type": "code",
   "execution_count": 9,
   "metadata": {
    "ExecuteTime": {
     "end_time": "2016-07-26T22:57:05.712860",
     "start_time": "2016-07-26T22:57:05.348177"
    },
    "collapsed": false
   },
   "outputs": [
    {
     "data": {
      "image/png": "[encoded data removed]",
      "text/plain": [
       "<matplotlib.figure.Figure at 0x7f54e35e6780>"
      ]
     },
     "metadata": {},
     "output_type": "display_data"
    }
   ],
   "source": [
    "plot_metric(fa_distances, 'weighted_distance', 20)"
   ]
  },
  {
   "cell_type": "markdown",
   "metadata": {},
   "source": [
    "### 2.3 Comments on FA distances"
   ]
  },
  {
   "cell_type": "code",
   "execution_count": 10,
   "metadata": {
    "ExecuteTime": {
     "end_time": "2016-07-26T22:57:05.721928",
     "start_time": "2016-07-26T22:57:05.715528"
    },
    "collapsed": false
   },
   "outputs": [
    {
     "name": "stdout",
     "output_type": "stream",
     "text": [
      "1775 substitutions are not taken into account in the graphs above (because they involve words unknown to FA).\n"
     ]
    }
   ],
   "source": [
    "print('{} substitutions are not taken into account in the graphs above'\n",
    "      ' (because they involve words unknown to FA).'\n",
    "      .format(len(fa_distances[np.isnan(fa_distances.distance)])))"
   ]
  },
  {
   "cell_type": "markdown",
   "metadata": {},
   "source": [
    "We see in the first graph that most substitutions are not with immediate neighbours, it's rather 3 hops away on average.\n",
    "\n",
    "The second graph is with weighted distances, with weights (costs) scaled so that the average cost of a link is 1. So a distance of 2 means that you travel the equivalent of 2 average links (be it with 1 link twice as expensive, or 4 links twice as cheap). Here too, we see that most substitutions are at distance 2, meaning it's not immediate neighbours but rather the words after those."
   ]
  },
  {
   "cell_type": "markdown",
   "metadata": {},
   "source": [
    "## 3 Distances with WordNet similarities"
   ]
  },
  {
   "cell_type": "code",
   "execution_count": 11,
   "metadata": {
    "ExecuteTime": {
     "end_time": "2016-07-26T22:57:06.358139",
     "start_time": "2016-07-26T22:57:05.724525"
    },
    "collapsed": false
   },
   "outputs": [],
   "source": [
    "infocontent = wn_ic.ic('ic-brown.dat')\n",
    "wordnet_poses = {'a', 'n', 'r', 's', 'v'}\n",
    "\n",
    "def build_wordnet_metric(data, name, tipe, ic_based,\n",
    "                         pos_based=False, distance_kws={}):\n",
    "    if tipe not in ['distance', 'similarity']:\n",
    "        raise ValueError\n",
    "    pos_based = ic_based or pos_based\n",
    "    wn_metrics = data.copy()\n",
    "    wn_metrics['metric'] = np.nan\n",
    "\n",
    "    skipped_no_synsets = 0\n",
    "    skipped_unknown_pos = 0\n",
    "    skipped_incongruent_pos = 0\n",
    "    skipped_noic_pos = 0\n",
    "    for i in ProgressBar(term_width=80)(data.index):\n",
    "        if pos_based:\n",
    "            pos = data.loc[i].source_pos[0].lower()\n",
    "            if pos not in wordnet_poses:\n",
    "                skipped_unknown_pos += 1\n",
    "                continue\n",
    "            if data.loc[i].destination_pos[0].lower() != pos:\n",
    "                skipped_incongruent_pos += 1\n",
    "                continue\n",
    "            if ic_based and (pos not in infocontent.keys()):\n",
    "                skipped_noic_pos += 1\n",
    "                continue\n",
    "        else:\n",
    "            pos = None\n",
    "        \n",
    "        # Use source token, or lemma if not found\n",
    "        source_synsets = wn.synsets(wn_metrics.loc[i].source_token, pos=pos)\n",
    "        if len(source_synsets) == 0:\n",
    "            source_synsets = wn.synsets(wn_metrics.loc[i].source_lemma, \n",
    "                                        pos=pos)\n",
    "\n",
    "        # Use destination token, or lemma if not found\n",
    "        destination_synsets = wn.synsets(wn_metrics.loc[i].destination_token, \n",
    "                                         pos=pos)\n",
    "        if len(destination_synsets) == 0:\n",
    "            destination_synsets = \\\n",
    "                wn.synsets(wn_metrics.loc[i].destination_lemma, pos=pos)\n",
    "        \n",
    "        # Skip this substitution if no corresponding synsets were found\n",
    "        if len(source_synsets) == 0 or len(destination_synsets) == 0:\n",
    "            skipped_no_synsets += 1\n",
    "            continue\n",
    "        \n",
    "        def get_distance(s1, s2):\n",
    "            distance_func = getattr(s1, name)\n",
    "            if ic_based:\n",
    "                return distance_func(s2, infocontent, **distance_kws)\n",
    "            else:\n",
    "                return distance_func(s2, **distance_kws)\n",
    "        \n",
    "        distances = [get_distance(s1, s2)\n",
    "                     for s1, s2 in product(source_synsets, \n",
    "                                           destination_synsets)\n",
    "                     if get_distance(s1, s2) is not None]\n",
    "        if len(distances) != 0:\n",
    "            if tipe == 'distance':\n",
    "                wn_metrics.loc[i, 'metric'] = np.min(distances)\n",
    "            else:\n",
    "                wn_metrics.loc[i, 'metric'] = np.max(distances)\n",
    "        else:\n",
    "            wn_metrics.loc[i, 'metric'] = np.nan\n",
    "    \n",
    "    if pos_based:\n",
    "        print('Skipped {} substitutions because their '\n",
    "              'source was unknown to WordNet'\n",
    "              .format(skipped_unknown_pos))\n",
    "        print('Skipped {} substitutions because their '\n",
    "              'source and destination pos were different'\n",
    "              .format(skipped_incongruent_pos))\n",
    "        if ic_based:\n",
    "            print('Skipped {} substitutions because their '\n",
    "                  'source pos was not in {}'\n",
    "                  .format(skipped_noic_pos, infocontent.keys()))\n",
    "    print('Skipped {} substitutions because no synsets were found'\n",
    "          .format(skipped_no_synsets))\n",
    "\n",
    "    return wn_metrics"
   ]
  },
  {
   "cell_type": "markdown",
   "metadata": {},
   "source": [
    "WordNet defines all sorts of distances/similarities between synsets. We're trying all of them to see what it looks like."
   ]
  },
  {
   "cell_type": "markdown",
   "metadata": {},
   "source": [
    "### 3.1 Jiang-Conrath similarity"
   ]
  },
  {
   "cell_type": "code",
   "execution_count": 12,
   "metadata": {
    "ExecuteTime": {
     "end_time": "2016-07-26T22:57:21.150920",
     "start_time": "2016-07-26T22:57:06.360002"
    },
    "collapsed": false,
    "scrolled": true
   },
   "outputs": [
    {
     "name": "stderr",
     "output_type": "stream",
     "text": [
      " 98% (6215 of 6318) |###################### | Elapsed Time: 0:00:14 ETA: 0:00:00"
     ]
    },
    {
     "name": "stdout",
     "output_type": "stream",
     "text": [
      "Skipped 995 substitutions because their source was unknown to WordNet\n",
      "Skipped 1053 substitutions because their source and destination pos were different\n",
      "Skipped 117 substitutions because their source pos was not in dict_keys(['v', 'n'])\n",
      "Skipped 0 substitutions because no synsets were found\n"
     ]
    },
    {
     "name": "stderr",
     "output_type": "stream",
     "text": [
      "\r",
      " 98% (6240 of 6318) |###################### | Elapsed Time: 0:00:14 ETA: 0:00:00\r",
      " 99% (6291 of 6318) |###################### | Elapsed Time: 0:00:14 ETA: 0:00:00\r",
      "100% (6318 of 6318) |######################| Elapsed Time: 0:00:14 Time: 0:00:14\n"
     ]
    }
   ],
   "source": [
    "jcn_similarities = build_wordnet_metric(distances, 'jcn_similarity', \n",
    "                                        'similarity', True)"
   ]
  },
  {
   "cell_type": "code",
   "execution_count": 13,
   "metadata": {
    "ExecuteTime": {
     "end_time": "2016-07-26T22:57:21.532526",
     "start_time": "2016-07-26T22:57:21.152873"
    },
    "collapsed": false
   },
   "outputs": [
    {
     "data": {
      "image/png": "[encoded data removed]",
      "text/plain": [
       "<matplotlib.figure.Figure at 0x7f54d8df4400>"
      ]
     },
     "metadata": {},
     "output_type": "display_data"
    }
   ],
   "source": [
    "plot_metric(jcn_similarities.loc[jcn_similarities.metric <= 1],\n",
    "            'metric', 20)"
   ]
  },
  {
   "cell_type": "markdown",
   "metadata": {},
   "source": [
    "### 3.2 Lin similarity"
   ]
  },
  {
   "cell_type": "code",
   "execution_count": 14,
   "metadata": {
    "ExecuteTime": {
     "end_time": "2016-07-26T22:57:29.685969",
     "start_time": "2016-07-26T22:57:21.536119"
    },
    "collapsed": false
   },
   "outputs": [
    {
     "name": "stderr",
     "output_type": "stream",
     "text": [
      " 98% (6228 of 6318) |###################### | Elapsed Time: 0:00:08 ETA: 0:00:00"
     ]
    },
    {
     "name": "stdout",
     "output_type": "stream",
     "text": [
      "Skipped 995 substitutions because their source was unknown to WordNet\n",
      "Skipped 1053 substitutions because their source and destination pos were different\n",
      "Skipped 117 substitutions because their source pos was not in dict_keys(['v', 'n'])\n",
      "Skipped 0 substitutions because no synsets were found\n"
     ]
    },
    {
     "name": "stderr",
     "output_type": "stream",
     "text": [
      "\r",
      " 98% (6240 of 6318) |###################### | Elapsed Time: 0:00:08 ETA: 0:00:00\r",
      " 99% (6317 of 6318) |###################### | Elapsed Time: 0:00:08 ETA: 0:00:00\r",
      "100% (6318 of 6318) |######################| Elapsed Time: 0:00:08 Time: 0:00:08\n"
     ]
    }
   ],
   "source": [
    "lin_similarities = build_wordnet_metric(distances, 'lin_similarity', \n",
    "                                        'similarity', True)"
   ]
  },
  {
   "cell_type": "code",
   "execution_count": 15,
   "metadata": {
    "ExecuteTime": {
     "end_time": "2016-07-26T22:57:30.042646",
     "start_time": "2016-07-26T22:57:29.688148"
    },
    "collapsed": false
   },
   "outputs": [
    {
     "data": {
      "image/png": "[encoded data removed]",
      "text/plain": [
       "<matplotlib.figure.Figure at 0x7f54e3529a58>"
      ]
     },
     "metadata": {},
     "output_type": "display_data"
    }
   ],
   "source": [
    "plot_metric(lin_similarities, 'metric', 20)"
   ]
  },
  {
   "cell_type": "markdown",
   "metadata": {},
   "source": [
    "### 3.3 Resnik similarity"
   ]
  },
  {
   "cell_type": "code",
   "execution_count": 16,
   "metadata": {
    "ExecuteTime": {
     "end_time": "2016-07-26T22:57:38.518901",
     "start_time": "2016-07-26T22:57:30.046143"
    },
    "collapsed": false
   },
   "outputs": [
    {
     "name": "stderr",
     "output_type": "stream",
     "text": [
      " 97% (6161 of 6318) |###################### | Elapsed Time: 0:00:08 ETA: 0:00:00"
     ]
    },
    {
     "name": "stdout",
     "output_type": "stream",
     "text": [
      "Skipped 995 substitutions because their source was unknown to WordNet\n",
      "Skipped 1053 substitutions because their source and destination pos were different\n",
      "Skipped 117 substitutions because their source pos was not in dict_keys(['v', 'n'])\n",
      "Skipped 0 substitutions because no synsets were found\n"
     ]
    },
    {
     "name": "stderr",
     "output_type": "stream",
     "text": [
      "\r",
      " 98% (6224 of 6318) |###################### | Elapsed Time: 0:00:08 ETA: 0:00:00\r",
      " 98% (6240 of 6318) |###################### | Elapsed Time: 0:00:08 ETA: 0:00:00\r",
      " 99% (6305 of 6318) |###################### | Elapsed Time: 0:00:08 ETA: 0:00:00\r",
      "100% (6318 of 6318) |######################| Elapsed Time: 0:00:08 Time: 0:00:08\n"
     ]
    }
   ],
   "source": [
    "res_similarities = build_wordnet_metric(distances, 'res_similarity', \n",
    "                                        'similarity', True)"
   ]
  },
  {
   "cell_type": "code",
   "execution_count": 17,
   "metadata": {
    "ExecuteTime": {
     "end_time": "2016-07-26T22:57:38.852832",
     "start_time": "2016-07-26T22:57:38.520670"
    },
    "collapsed": false
   },
   "outputs": [
    {
     "data": {
      "image/png": "[encoded data removed]",
      "text/plain": [
       "<matplotlib.figure.Figure at 0x7f54d8cbcf60>"
      ]
     },
     "metadata": {},
     "output_type": "display_data"
    }
   ],
   "source": [
    "plot_metric(res_similarities.loc[res_similarities.metric <= 100], \n",
    "            'metric', 20)"
   ]
  },
  {
   "cell_type": "markdown",
   "metadata": {},
   "source": [
    "### 3.4 Leacock Chodorow similarity"
   ]
  },
  {
   "cell_type": "code",
   "execution_count": 18,
   "metadata": {
    "ExecuteTime": {
     "end_time": "2016-07-26T22:58:32.607255",
     "start_time": "2016-07-26T22:57:38.856271"
    },
    "collapsed": false
   },
   "outputs": [
    {
     "name": "stderr",
     "output_type": "stream",
     "text": [
      " 99% (6289 of 6318) |###################### | Elapsed Time: 0:00:53 ETA: 0:00:00"
     ]
    },
    {
     "name": "stdout",
     "output_type": "stream",
     "text": [
      "Skipped 995 substitutions because their source was unknown to WordNet\n",
      "Skipped 1053 substitutions because their source and destination pos were different\n",
      "Skipped 0 substitutions because no synsets were found\n"
     ]
    },
    {
     "name": "stderr",
     "output_type": "stream",
     "text": [
      "\r",
      " 99% (6304 of 6318) |###################### | Elapsed Time: 0:00:53 ETA: 0:00:00\r",
      " 99% (6316 of 6318) |###################### | Elapsed Time: 0:00:53 ETA: 0:00:00\r",
      "100% (6318 of 6318) |######################| Elapsed Time: 0:00:53 Time: 0:00:53\n"
     ]
    }
   ],
   "source": [
    "lch_similarities = build_wordnet_metric(distances, 'lch_similarity', \n",
    "                                        'similarity', False, pos_based=True)"
   ]
  },
  {
   "cell_type": "code",
   "execution_count": 19,
   "metadata": {
    "ExecuteTime": {
     "end_time": "2016-07-26T22:58:32.898807",
     "start_time": "2016-07-26T22:58:32.609270"
    },
    "collapsed": false
   },
   "outputs": [
    {
     "data": {
      "image/png": "[encoded data removed]",
      "text/plain": [
       "<matplotlib.figure.Figure at 0x7f54d8c54ef0>"
      ]
     },
     "metadata": {},
     "output_type": "display_data"
    }
   ],
   "source": [
    "plot_metric(lch_similarities, 'metric', 20)"
   ]
  },
  {
   "cell_type": "markdown",
   "metadata": {},
   "source": [
    "### 3.5 Path Distance similarity (with hypernym/hyponym relationships)"
   ]
  },
  {
   "cell_type": "code",
   "execution_count": 20,
   "metadata": {
    "ExecuteTime": {
     "end_time": "2016-07-26T22:59:41.308391",
     "start_time": "2016-07-26T22:58:32.900729"
    },
    "collapsed": false
   },
   "outputs": [
    {
     "name": "stderr",
     "output_type": "stream",
     "text": [
      " 99% (6281 of 6318) |###################### | Elapsed Time: 0:01:08 ETA: 0:00:00"
     ]
    },
    {
     "name": "stdout",
     "output_type": "stream",
     "text": [
      "Skipped 0 substitutions because no synsets were found\n"
     ]
    },
    {
     "name": "stderr",
     "output_type": "stream",
     "text": [
      "\r",
      " 99% (6297 of 6318) |###################### | Elapsed Time: 0:01:08 ETA: 0:00:00\r",
      " 99% (6314 of 6318) |###################### | Elapsed Time: 0:01:08 ETA: 0:00:00\r",
      "100% (6318 of 6318) |######################| Elapsed Time: 0:01:08 Time: 0:01:08\n"
     ]
    }
   ],
   "source": [
    "path_similarities = build_wordnet_metric(distances, 'path_similarity', \n",
    "                                         'similarity', False)"
   ]
  },
  {
   "cell_type": "code",
   "execution_count": 21,
   "metadata": {
    "ExecuteTime": {
     "end_time": "2016-07-26T22:59:41.587633",
     "start_time": "2016-07-26T22:59:41.309759"
    },
    "collapsed": false
   },
   "outputs": [
    {
     "data": {
      "image/png": "[encoded data removed]",
      "text/plain": [
       "<matplotlib.figure.Figure at 0x7f54c9984f60>"
      ]
     },
     "metadata": {},
     "output_type": "display_data"
    }
   ],
   "source": [
    "plot_metric(path_similarities, 'metric', 20)"
   ]
  },
  {
   "cell_type": "markdown",
   "metadata": {},
   "source": [
    "### 3.6 Shortest Path distance (less is more similar, more is less similar)"
   ]
  },
  {
   "cell_type": "code",
   "execution_count": 22,
   "metadata": {
    "ExecuteTime": {
     "end_time": "2016-07-26T23:00:10.754486",
     "start_time": "2016-07-26T22:59:41.591621"
    },
    "collapsed": false
   },
   "outputs": [
    {
     "name": "stderr",
     "output_type": "stream",
     "text": [
      " 99% (6281 of 6318) |###################### | Elapsed Time: 0:00:28 ETA: 0:00:00"
     ]
    },
    {
     "name": "stdout",
     "output_type": "stream",
     "text": [
      "Skipped 995 substitutions because their source was unknown to WordNet\n",
      "Skipped 1053 substitutions because their source and destination pos were different\n",
      "Skipped 0 substitutions because no synsets were found\n"
     ]
    },
    {
     "name": "stderr",
     "output_type": "stream",
     "text": [
      "\r",
      " 99% (6306 of 6318) |###################### | Elapsed Time: 0:00:29 ETA: 0:00:00\r",
      "100% (6318 of 6318) |######################| Elapsed Time: 0:00:29 Time: 0:00:29\n"
     ]
    }
   ],
   "source": [
    "shortest_path_distances = build_wordnet_metric(\n",
    "    distances, 'shortest_path_distance',  'distance', False, pos_based=True,\n",
    "    distance_kws={'simulate_root': True})"
   ]
  },
  {
   "cell_type": "code",
   "execution_count": 23,
   "metadata": {
    "ExecuteTime": {
     "end_time": "2016-07-26T23:00:11.117025",
     "start_time": "2016-07-26T23:00:10.756501"
    },
    "collapsed": false
   },
   "outputs": [
    {
     "data": {
      "image/png": "[encoded data removed]",
      "text/plain": [
       "<matplotlib.figure.Figure at 0x7f54c9d48208>"
      ]
     },
     "metadata": {},
     "output_type": "display_data"
    }
   ],
   "source": [
    "plot_metric(shortest_path_distances, 'metric', 20)"
   ]
  },
  {
   "cell_type": "markdown",
   "metadata": {},
   "source": [
    "### 3.7 Wu-Palmer similarity"
   ]
  },
  {
   "cell_type": "code",
   "execution_count": 24,
   "metadata": {
    "ExecuteTime": {
     "end_time": "2016-07-26T23:01:19.130807",
     "start_time": "2016-07-26T23:00:11.120553"
    },
    "collapsed": false
   },
   "outputs": [
    {
     "name": "stderr",
     "output_type": "stream",
     "text": [
      " 99% (6282 of 6318) |###################### | Elapsed Time: 0:01:07 ETA: 0:00:00"
     ]
    },
    {
     "name": "stdout",
     "output_type": "stream",
     "text": [
      "Skipped 0 substitutions because no synsets were found\n"
     ]
    },
    {
     "name": "stderr",
     "output_type": "stream",
     "text": [
      "\r",
      " 99% (6298 of 6318) |###################### | Elapsed Time: 0:01:07 ETA: 0:00:00\r",
      " 99% (6309 of 6318) |###################### | Elapsed Time: 0:01:07 ETA: 0:00:00\r",
      "100% (6318 of 6318) |######################| Elapsed Time: 0:01:08 Time: 0:01:08\n"
     ]
    }
   ],
   "source": [
    "wup_similarities = build_wordnet_metric(distances, 'wup_similarity', \n",
    "                                        'similarity', False)"
   ]
  },
  {
   "cell_type": "code",
   "execution_count": 25,
   "metadata": {
    "ExecuteTime": {
     "end_time": "2016-07-26T23:01:19.423103",
     "start_time": "2016-07-26T23:01:19.133331"
    },
    "collapsed": false
   },
   "outputs": [
    {
     "data": {
      "image/png": "[encoded data removed]",
      "text/plain": [
       "<matplotlib.figure.Figure at 0x7f54c98c9e48>"
      ]
     },
     "metadata": {},
     "output_type": "display_data"
    }
   ],
   "source": [
    "plot_metric(wup_similarities, 'metric', 20)"
   ]
  },
  {
   "cell_type": "markdown",
   "metadata": {},
   "source": [
    "### 3.8 Comments on the WordNet similarities and distances\n",
    "\n",
    "The WordNet distances and similarities make little sense to me. Lin (3.2), Path Distance (3.5), and Wu-Palmer (3.7) similarities are between 0 and 1, so we get a sense of how similar or dissimilar words are. Shortest Path Distance (3.6) is the distance in the hypernym/hyponym graph, so is also interpretable. Jiang-Conrath (3.1), Resnik (3.3), and Leacock Chodorow (3.4) similarities don't seem bound, so are more difficult to interpret.\n",
    "\n",
    "One more problem: most of these measures only accept words that have exact same POS (which filters out about 1000 substitutions out of ~6000).\n",
    "\n",
    "What can be seen is that there seems to be a group of substitutions where the words are very similar, and a thick tail of substitutions where the words are increasingly different (low similarities, high distances)."
   ]
  }
 ],
 "metadata": {
  "kernelspec": {
   "display_name": "Python 3",
   "language": "python",
   "name": "python3"
  },
  "language_info": {
   "codemirror_mode": {
    "name": "ipython",
    "version": 3
   },
   "file_extension": ".py",
   "mimetype": "text/x-python",
   "name": "python",
   "nbconvert_exporter": "python",
   "pygments_lexer": "ipython3",
   "version": "3.5.2"
  },
  "toc": {
   "toc_cell": false,
   "toc_number_sections": false,
   "toc_threshold": 6,
   "toc_window_display": false
  }
 },
 "nbformat": 4,
 "nbformat_minor": 0
}
