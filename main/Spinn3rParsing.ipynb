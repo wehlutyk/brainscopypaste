{
 "metadata": {
  "name": "Spinn3rParsing"
 }, 
 "nbformat": 2, 
 "worksheets": [
  {
   "cells": [
    {
     "cell_type": "code", 
     "collapsed": false, 
     "input": [
      "# Initialize the notebook", 
      "from nltk import *", 
      "from dataparsing.Spinn3rToNltk import ConvertSpinn3rToDict, CreateSpinn3rCategorizedPlaintextCorpusReader"
     ], 
     "language": "python", 
     "outputs": [], 
     "prompt_number": 1
    }, 
    {
     "cell_type": "code", 
     "collapsed": false, 
     "input": [
      "#dictitems = ConvertSpinn3rToDict('/home/sebastien/Code/cogmaster-stage/main/data/Spinn3r/part-1-subset.stripped.xml')"
     ], 
     "language": "python", 
     "outputs": [], 
     "prompt_number": 2
    }, 
    {
     "cell_type": "code", 
     "collapsed": false, 
     "input": [
      "#dictitems[0]"
     ], 
     "language": "python", 
     "outputs": [], 
     "prompt_number": 3
    }, 
    {
     "cell_type": "code", 
     "collapsed": false, 
     "input": [
      "#for it in dictitems:", 
      "#    print it['pubDate']"
     ], 
     "language": "python", 
     "outputs": [], 
     "prompt_number": 4
    }, 
    {
     "cell_type": "code", 
     "collapsed": false, 
     "input": [
      "reader = CreateSpinn3rCategorizedPlaintextCorpusReader('/home/sebastien/Code/cogmaster-stage/main/data/Spinn3r', 'part-1-subset.stripped.xml')"
     ], 
     "language": "python", 
     "outputs": [
      {
       "output_type": "stream", 
       "stream": "stderr", 
       "text": [
        "dataparsing/Spinn3rToNltk.py:75: UserWarning: &apos;/home/sebastien/Code/cogmaster-stage/main/data/Spinn3r/nltk&apos; already exists! Moving it to &apos;/home/sebastien/Code/cogmaster-stage/main/data/Spinn3r/nltk.Thu-Mar-1-17:38:27-2012&apos;", 
        "  SaveNltkFiles(rootfolder_nltk, dictitems)"
       ]
      }
     ], 
     "prompt_number": 5
    }, 
    {
     "cell_type": "code", 
     "collapsed": false, 
     "input": [
      "reader.categories()"
     ], 
     "language": "python", 
     "outputs": [
      {
       "output_type": "pyout", 
       "prompt_number": 6, 
       "text": [
        "[&apos;CLASSIFIED&apos;, &apos;WEBLOG&apos;]"
       ]
      }
     ], 
     "prompt_number": 6
    }, 
    {
     "cell_type": "code", 
     "collapsed": false, 
     "input": [
      "len(reader.words(categories='WEBLOG'))"
     ], 
     "language": "python", 
     "outputs": [
      {
       "output_type": "pyout", 
       "prompt_number": 7, 
       "text": [
        "17011"
       ]
      }
     ], 
     "prompt_number": 7
    }, 
    {
     "cell_type": "code", 
     "collapsed": true, 
     "input": [], 
     "language": "python", 
     "outputs": [], 
     "prompt_number": 7
    }
   ]
  }
 ]
}