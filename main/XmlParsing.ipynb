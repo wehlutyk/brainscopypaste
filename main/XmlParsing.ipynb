{
 "metadata": {
  "name": "XmlParsing"
 }, 
 "nbformat": 2, 
 "worksheets": [
  {
   "cells": [
    {
     "cell_type": "code", 
     "collapsed": false, 
     "input": [
      "# Initialize the notebook", 
      "from nltk import *", 
      "from dataparsing.xml.XmlDictObject import *"
     ], 
     "language": "python", 
     "outputs": [], 
     "prompt_number": 1
    }, 
    {
     "cell_type": "code", 
     "collapsed": false, 
     "input": [
      "xmldict = ConvertXmlToDict('/home/sebastien/Code/cogmaster-stage/main/data/part-1-subset.stripped.xml')"
     ], 
     "language": "python", 
     "outputs": [], 
     "prompt_number": 2
    }, 
    {
     "cell_type": "code", 
     "collapsed": false, 
     "input": [
      "xmldict.dataset.item[0]"
     ], 
     "language": "python", 
     "outputs": [
      {
       "output_type": "pyout", 
       "prompt_number": 4, 
       "text": [
        "{&apos;author&apos;: {&apos;email&apos;: &apos;&apos;, &apos;link&apos;: &apos;&apos;, &apos;name&apos;: &apos;David&apos;},", 
        " &apos;category&apos;: [&apos;General&apos;, &apos;BBC&apos;, &apos;Cars&apos;, &apos;comedy&apos;, &apos;TV&apos;],", 
        " &apos;date_found&apos;: &apos;2008-08-01T00:00:01Z&apos;,", 
        " &apos;description&apos;: [{&apos;_text&apos;: &apos;&apos;, &apos;_text_outlinks&apos;: [], &apos;_text_stripped&apos;: &apos;&apos;},", 
        "  {&apos;_text&apos;: u&apos;&lt;blockquote&gt;&lt;p&gt;One driver dislodged his lung. It was that fast.&lt;/p&gt;&lt;/blockquote&gt;\\n&lt;p&gt;It\\u2019s for comments like that, &lt;a href=&quot;http://www.bbc.co.uk/topgear/&quot;&gt;Top Gear&lt;/a&gt; makes me laugh each week. Thanks to the &lt;a href=&quot;http://www.bbc.co.uk/iplayer/episode/b00cv2s3/&quot;&gt;iPlayer I can catch up&lt;/a&gt; with the TV I missed over the past week.&lt;/p&gt;\\n&lt;hr /&gt;&lt;small&gt;\\xa9 Copyright 2001-2008, &lt;a href=&quot;http://sdjl.co.uk&quot;&gt;SDJL.co.uk&lt;/a&gt;&lt;br /&gt;\\nIf you are seeing this content outside of SDJL.co.uk and not in my RSS feed, please &lt;a href=&quot;http://sdjl.co.uk/contact&quot;&gt;let me know&lt;/a&gt;!&lt;br /&gt;(digitalfingerprint: 41de39d2f8f48e9552832e12cf2125af (192.192.35.235) )&lt;/small&gt;&lt;p class=&quot;akst_link&quot;&gt;&lt;a href=&quot;http://sdjl.co.uk/?p=2474&amp;akst_action=share-this&quot;  title=&quot;Email, post to del.icio.us, etc.&quot; id=&quot;akst_link_2474&quot; class=&quot;akst_share_link&quot; rel=&quot;noindex nofollow&quot;&gt;ShareThis&lt;/a&gt;\\n&lt;/p&gt;&apos;,", 
        "   &apos;_text_outlinks&apos;: [{u&apos;href&apos;: u&apos;http://www.bbc.co.uk/topgear/&apos;},", 
        "    {u&apos;href&apos;: u&apos;http://www.bbc.co.uk/iplayer/episode/b00cv2s3/&apos;},", 
        "    {u&apos;href&apos;: u&apos;http://sdjl.co.uk&apos;},", 
        "    {u&apos;href&apos;: u&apos;http://sdjl.co.uk/contact&apos;},", 
        "    {u&apos;class&apos;: u&apos;akst_share_link&apos;,", 
        "     u&apos;href&apos;: u&apos;http://sdjl.co.uk/?p=2474&amp;akst_action=share-this&apos;,", 
        "     u&apos;id&apos;: u&apos;akst_link_2474&apos;,", 
        "     u&apos;rel&apos;: u&apos;noindex nofollow&apos;,", 
        "     u&apos;title&apos;: u&apos;Email, post to del.icio.us, etc.&apos;}],", 
        "   &apos;_text_stripped&apos;: u&apos;One driver dislodged his lung. It was that fast.\\nIt\\u2019s for comments like that, Top Gear makes me laugh each week. Thanks to the iPlayer I can catch up with the TV I missed over the past week.\\n\\xa9 Copyright 2001-2008, SDJL.co.uk\\nIf you are seeing this content outside of SDJL.co.uk and not in my RSS feed, please let me know!(digitalfingerprint: 41de39d2f8f48e9552832e12cf2125af (192.192.35.235) )ShareThis\\n&apos;},", 
        "  {&apos;_text&apos;: &apos;&apos;, &apos;_text_outlinks&apos;: [], &apos;_text_stripped&apos;: &apos;&apos;}],", 
        " &apos;guid&apos;: &apos;http://sdjl.co.uk/feeder/?FeederAction=clicked&amp;feed=Articles+%28RSS2%29&amp;seed=http%3A%2F%2Fsdjl.co.uk%2F2008%2F08%2F01%2Ftop-gear%2F&amp;seed_title=Top+Gear&apos;,", 
        " &apos;indegree&apos;: [&apos;2&apos;, &apos;2&apos;],", 
        " &apos;iranking&apos;: [&apos;0&apos;, &apos;0&apos;],", 
        " &apos;lang&apos;: &apos;en&apos;,", 
        " &apos;link&apos;: [&apos;http://www.sdjl.co.uk/feeder/?FeederAction=clicked&amp;feed=Articles+%28RSS2%29&amp;seed=http%3A%2F%2Fsdjl.co.uk%2F2008%2F08%2F01%2Ftop-gear%2F&amp;seed_title=Top+Gear&apos;,", 
        "  &apos;http://sdjl.co.uk/feed/&apos;],", 
        " &apos;pubDate&apos;: &apos;Fri, 01 Aug 2008 00:00:01 GMT&apos;,", 
        " &apos;published&apos;: &apos;2008-07-31T23:31:22Z&apos;,", 
        " &apos;publisher_type&apos;: &apos;WEBLOG&apos;,", 
        " &apos;resource&apos;: &apos;http://sdjl.co.uk&apos;,", 
        " &apos;resource_guid&apos;: &apos;AfixlwxYJx4&apos;,", 
        " &apos;source&apos;: &apos;http://sdjl.co.uk&apos;,", 
        " &apos;spam_probability&apos;: &apos;0&apos;,", 
        " &apos;tier&apos;: [&apos;122&apos;, &apos;122&apos;],", 
        " &apos;title&apos;: [{&apos;_text&apos;: &apos;Top Gear&apos;,", 
        "   &apos;_text_outlinks&apos;: [],", 
        "   &apos;_text_stripped&apos;: &apos;Top Gear&apos;},", 
        "  {&apos;_text&apos;: &apos;SDJL.co.uk&apos;,", 
        "   &apos;_text_outlinks&apos;: [],", 
        "   &apos;_text_stripped&apos;: &apos;SDJL.co.uk&apos;},", 
        "  {&apos;_text&apos;: &apos;SDJL.co.uk&apos;,", 
        "   &apos;_text_outlinks&apos;: [],", 
        "   &apos;_text_stripped&apos;: &apos;SDJL.co.uk&apos;}],", 
        " &apos;url&apos;: &apos;http://sdjl.co.uk/feed&apos;}"
       ]
      }
     ], 
     "prompt_number": 4
    }
   ]
  }
 ]
}